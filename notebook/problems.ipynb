{
    "cells": [
        {
            "cell_type": "markdown",
            "id": "ac622319",
            "metadata": {},
            "source": [
                "# Descriptive statistics problems"
            ]
        },
        {
            "cell_type": "markdown",
            "id": "5e0ab0d5",
            "metadata": {},
            "source": [
                "### Exercise 1\n",
                "\n",
                "We will use NumPy to obtain information to describe statistically.\n",
                "\n",
                "- Generate an array of 100 elements following a normal distribution.\n",
                "- Generate an array of 100 elements following a chi-square distribution with 3 degrees of freedom.\n",
                "- Calculate the main metrics and statistical measures that best describe the two vectors."
            ]
        },
        {
            "cell_type": "code",
            "execution_count": 1,
            "id": "34720ab6",
            "metadata": {},
            "outputs": [],
            "source": [
                "# TODO\n",
                "import numpy as np\n",
                "np.random.seed(42)\n",
                "\n",
                "array1 = np.random.normal(size = 100)\n",
                "array2 = np.random.chisquare(3,100)\n",
                "print(array2)"
            ]
        },
        {
            "cell_type": "code",
            "execution_count": null,
            "id": "e7702ea5",
            "metadata": {},
            "outputs": [],
            "source": [
                "import statistics as stats\n",
                "\n",
                "print(stats.mean(array1))\n",
                "print(stats.mean(array2))"
            ]
        },
        {
            "cell_type": "code",
            "execution_count": null,
            "id": "e23d2fac",
            "metadata": {},
            "outputs": [],
            "source": [
                "print(stats.mode(array1))\n",
                "print(stats.mode(array2))"
            ]
        },
        {
            "cell_type": "code",
            "execution_count": null,
            "id": "11887d13",
            "metadata": {},
            "outputs": [],
            "source": [
                "print(stats.median(array1))\n",
                "print(stats.median(array2))"
            ]
        },
        {
            "cell_type": "code",
            "execution_count": null,
            "id": "91baa7d3",
            "metadata": {},
            "outputs": [],
            "source": [
                "print(max(array1)-min(array1))\n",
                "print(max(array1)-min(array2))"
            ]
        },
        {
            "cell_type": "code",
            "execution_count": null,
            "id": "b21ec29d",
            "metadata": {},
            "outputs": [],
            "source": [
                "print(stats.stdev(array1))\n",
                "print(stats.stdev(array2))"
            ]
        },
        {
            "cell_type": "code",
            "execution_count": null,
            "id": "8f8cd0be",
            "metadata": {},
            "outputs": [],
            "source": [
                "print(f\"la varianza de la distribucion normal es:stats.variance(array1)\")\n",
                "print(stats.variance(array2))"
            ]
        },
        {
            "cell_type": "code",
            "execution_count": null,
            "id": "f4e5567b",
            "metadata": {},
            "outputs": [],
            "source": [
                "from scipy.stats import skew,kurtosis\n",
                "\n",
                "print(skew(array1))"
            ]
        },
        {
            "cell_type": "code",
            "execution_count": null,
            "id": "9fbecc5e",
            "metadata": {},
            "outputs": [],
            "source": [
                "print(kurtosis(array2))"
            ]
        },
        {
            "cell_type": "markdown",
            "id": "46c70c3d",
            "metadata": {},
            "source": [
                "### Exercise 2\n",
                "\n",
                "Write a Python program to calculate the standard deviation of the following data:\n",
                "\n",
                "```py\n",
                "data = [4, 2, 5, 8, 6]\n",
                "```"
            ]
        },
        {
            "cell_type": "code",
            "execution_count": 2,
            "id": "d590308e",
            "metadata": {},
            "outputs": [],
            "source": [
                "# TODO\n",
                "data = [4,2,5,8,6]\n",
                "\n",
                "#formula sqrt(1/n*sum(x-u)**2) \n",
                "\n",
                "def promedio(lista):\n",
                "    suma = 0\n",
                "    for numero in lista:\n",
                "        suma += numero\n",
                "    return suma/len(lista)\n",
                "\n",
                "def std_dev(lista):\n",
                "    suma = 0\n",
                "    for numero in lista:\n",
                "        suma += (numero-promedio(lista))**2\n",
                "    varianza = suma/(len(lista)-1)\n",
                "    return varianza**(1/2)\n",
                "\n",
                "print(std_dev(data))\n",
                "print(stats.stdev(data))"
            ]
        }
    ],
    "metadata": {
        "interpreter": {
            "hash": "9248718ffe6ce6938b217e69dbcc175ea21f4c6b28a317e96c05334edae734bb"
        },
        "kernelspec": {
            "display_name": "Python 3.9.12 ('ML-BOOTCAMP')",
            "language": "python",
            "name": "python3"
        },
        "language_info": {
            "codemirror_mode": {
                "name": "ipython",
                "version": 3
            },
            "file_extension": ".py",
            "mimetype": "text/x-python",
            "name": "python",
            "nbconvert_exporter": "python",
            "pygments_lexer": "ipython3",
            "version": "3.11.4"
        }
    },
    "nbformat": 4,
    "nbformat_minor": 5
}
